{
 "cells": [
  {
   "cell_type": "markdown",
   "metadata": {},
   "source": [
    "# <center>编程练习部分</center>"
   ]
  },
  {
   "cell_type": "markdown",
   "metadata": {},
   "source": [
    "## 1.句子生成器"
   ]
  },
  {
   "cell_type": "code",
   "execution_count": 1,
   "metadata": {},
   "outputs": [],
   "source": [
    "import random\n",
    "class SentenceGenerator(object):\n",
    "    def __init__(self, gram_str=None, line_split='\\n', target_split='=', cell_split=\"|\"):\n",
    "        if gram_str is not None:\n",
    "            self.set_gram(gram_str, line_split, target_split, cell_split)\n",
    "    \n",
    "    @staticmethod\n",
    "    def format_gram(gram_str, line_split='\\n', target_split='=', cell_split=\"|\"):\n",
    "        \"\"\"把输入的语法字符串格式化为字典对象，以便后续操作\"\"\"\n",
    "        gram = {}\n",
    "        for line in gram_str.split(line_split):\n",
    "            if line.strip():\n",
    "                target, cells_str = line.split(target_split)\n",
    "                cells = cells_str.split(cell_split)\n",
    "                gram[target.strip()] = [cell.strip().split() for cell in cells]\n",
    "        return gram\n",
    "    \n",
    "    @classmethod\n",
    "    def sentence_gen(cls, gram=None, target=None):\n",
    "        \"\"\"根据语法字典和句子标签，生成句子\"\"\"\n",
    "        if gram is None:\n",
    "            return ''\n",
    "        if target not in gram:\n",
    "            return target\n",
    "        # 递归\n",
    "        expaned = [cls.sentence_gen(gram, t) for t in random.choice(gram[target])]\n",
    "        sentence = ''.join(x if x != '/n' else '\\n' for x in expaned if x != 'null')\n",
    "        return sentence\n",
    "    \n",
    "    def set_gram(self, gram_str, line_split='\\n', target_split='=', cell_split=\"|\"):\n",
    "        \"\"\"设置对象的语法， 输入语法字符串\"\"\"\n",
    "        self.gram = self.format_gram(gram_str, line_split, target_split, cell_split)\n",
    "    \n",
    "    def get_sentence(self, target):\n",
    "        \"\"\"根据句子标签，获取生成的句子\"\"\"\n",
    "        return self.sentence_gen(self.gram, target)\n",
    "    \n",
    "    def get_sentences(self, target, n):\n",
    "        \"\"\"根据句子标签以及数量，获取生成的句子列表\"\"\"\n",
    "        return [self.get_sentence(target) for _ in range(n)]"
   ]
  },
  {
   "cell_type": "markdown",
   "metadata": {},
   "source": [
    "语法1"
   ]
  },
  {
   "cell_type": "code",
   "execution_count": 2,
   "metadata": {},
   "outputs": [],
   "source": [
    "gram1 = \"\"\"\n",
    "human = 自己 寻找 活动\n",
    "自己 = 我 | 俺 | 我们 \n",
    "寻找 = 看看 | 找找 | 想找点\n",
    "活动 = 乐子 | 玩的\n",
    "\"\"\""
   ]
  },
  {
   "cell_type": "code",
   "execution_count": 3,
   "metadata": {},
   "outputs": [],
   "source": [
    "gen1 = SentenceGenerator(gram1, target_split='=')"
   ]
  },
  {
   "cell_type": "code",
   "execution_count": 4,
   "metadata": {},
   "outputs": [
    {
     "data": {
      "text/plain": [
       "'俺想找点乐子'"
      ]
     },
     "execution_count": 4,
     "metadata": {},
     "output_type": "execute_result"
    }
   ],
   "source": [
    "gen1.get_sentence('human')"
   ]
  },
  {
   "cell_type": "code",
   "execution_count": 5,
   "metadata": {},
   "outputs": [
    {
     "data": {
      "text/plain": [
       "['我看看玩的',\n",
       " '俺找找乐子',\n",
       " '我想找点玩的',\n",
       " '我们找找玩的',\n",
       " '我们找找乐子',\n",
       " '我们看看乐子',\n",
       " '我想找点玩的',\n",
       " '我找找玩的',\n",
       " '我想找点乐子',\n",
       " '我们看看乐子']"
      ]
     },
     "execution_count": 5,
     "metadata": {},
     "output_type": "execute_result"
    }
   ],
   "source": [
    "gen1.get_sentences('human', 10)"
   ]
  },
  {
   "cell_type": "markdown",
   "metadata": {},
   "source": [
    "## 2. 使用新数据源完成语言模型的训练(使用自己爬取的段子)"
   ]
  },
  {
   "cell_type": "code",
   "execution_count": 6,
   "metadata": {},
   "outputs": [],
   "source": [
    "import pandas as pd\n",
    "import numpy as np\n",
    "import re\n",
    "import jieba\n",
    "from collections import Counter\n",
    "from operator import itemgetter\n",
    "\n",
    "import waduanzi.waduanzi.orm as orm    # 数据库orm模型"
   ]
  },
  {
   "cell_type": "markdown",
   "metadata": {},
   "source": [
    "### 获取数据"
   ]
  },
  {
   "cell_type": "code",
   "execution_count": 7,
   "metadata": {},
   "outputs": [],
   "source": [
    "dbase = orm.SqlOrm()"
   ]
  },
  {
   "cell_type": "code",
   "execution_count": 8,
   "metadata": {},
   "outputs": [],
   "source": [
    "query = dbase.session.query(orm.Joke)"
   ]
  },
  {
   "cell_type": "code",
   "execution_count": 9,
   "metadata": {},
   "outputs": [
    {
     "data": {
      "text/plain": [
       "60926"
      ]
     },
     "execution_count": 9,
     "metadata": {},
     "output_type": "execute_result"
    }
   ],
   "source": [
    "query.count()"
   ]
  },
  {
   "cell_type": "code",
   "execution_count": 10,
   "metadata": {},
   "outputs": [
    {
     "name": "stdout",
     "output_type": "stream",
     "text": [
      "{'id': '217358', 'title': '平时负责后勤工作', 'content': '平时负责后勤工作。今天检查员工宿舍卫生情况，发现厨师空调没关，就顺手关了，然后去和厨师说了下，下次离开宿舍前空调要关了。结果中午吃排骨，厨师给我打一碗大骨头（基本没肉），我看其他同事全是肉…', 'likes': 983, 'unlikes': -14, 'url': 'http://www.waduanzi.com/archives/217358'}\n",
      "{'id': '217359', 'title': '公司抽奖，我和一女同事抽到连着的电影票', 'content': '公司抽奖，我和一女同事抽到连着的电影票。', 'likes': 1356, 'unlikes': -6, 'url': 'http://www.waduanzi.com/archives/217359'}\n",
      "{'id': '217360', 'title': '在街上一哥们过来问我，兄弟要不要手机', 'content': '在街上一哥们过来问我，兄弟要不要手机？我说：什么型号的，几成新？他深吸一口烟，缓缓的开口说道：', 'likes': 1196, 'unlikes': -16, 'url': 'http://www.waduanzi.com/archives/217360'}\n",
      "{'id': '217361', 'title': '一室友友趁有钱男友出差和网友幽 会，结果发现中招了，', 'content': '一室友友趁有钱男友出差和网友幽会，结果发现中招了，无奈约了自己闺蜜陪去的医院。', 'likes': 1336, 'unlikes': -13, 'url': 'http://www.waduanzi.com/archives/217361'}\n",
      "{'id': '217362', 'title': '本人女', 'content': '本人女，34岁，家庭主妇一枚，现求工作一份，非正当不做！最好照顾孩子两不误，求各位帅哥美女给过了！最好是新乡市里的！', 'likes': 1056, 'unlikes': -11, 'url': 'http://www.waduanzi.com/archives/217362'}\n",
      "{'id': '217363', 'title': '楼主洒水车司机', 'content': '楼主洒水车司机，今天正工作呢，看见一男子骑着电驴子载个女的，不走侧道走主道，恰恰公路两边是很长的那种花坛，男的停下电车，一人翻花坛跑了，女的双手抱头等着被淋，我只能把水停了，顺便告诉她：妹啊，找个像我这样的好人再嫁一次吧！看着妹子那感激的眼神，第一次这么痛恨自己为嘛是女人……', 'likes': 1433, 'unlikes': -7, 'url': 'http://www.waduanzi.com/archives/217363'}\n",
      "{'id': '217364', 'title': '高中一学弟，打球摔断了左手和右腿，所以每天他妈妈推着', 'content': '高中一学弟，打球摔断了左手和右腿，所以每天他妈妈推着轮椅来送他上下学，。', 'likes': 1030, 'unlikes': -15, 'url': 'http://www.waduanzi.com/archives/217364'}\n",
      "{'id': '217365', 'title': '买个房子还要什么单身证明！你是瞧不起单身啊，还要证明', 'content': '买个房子还要什么单身证明！你是瞧不起单身啊，还要证明昭告天下？信不信我叫两声吓死你！wao！wao！waowu…', 'likes': 1083, 'unlikes': -7, 'url': 'http://www.waduanzi.com/archives/217365'}\n",
      "{'id': '217366', 'title': '我去我哥家，刚坐下，还没冲茶，我嫂子在厨房问：“老公', 'content': '我去我哥家，刚坐下，还没冲茶，我嫂子在厨房问：“老公，你要柠檬味的，还是姜汁味的？要热的还是冷的？”', 'likes': 976, 'unlikes': -9, 'url': 'http://www.waduanzi.com/archives/217366'}\n",
      "{'id': '217367', 'title': '一美女来公司送货。我问负责接收的小张货怎么样', 'content': '一美女来公司送货。', 'likes': 922, 'unlikes': -10, 'url': 'http://www.waduanzi.com/archives/217367'}\n"
     ]
    }
   ],
   "source": [
    "for i in range(10):\n",
    "    print(query[i].to_dict())"
   ]
  },
  {
   "cell_type": "code",
   "execution_count": 11,
   "metadata": {},
   "outputs": [],
   "source": [
    "df = pd.DataFrame([info.to_dict() for info in query.all()])"
   ]
  },
  {
   "cell_type": "code",
   "execution_count": 12,
   "metadata": {},
   "outputs": [
    {
     "data": {
      "text/html": [
       "<div>\n",
       "<style scoped>\n",
       "    .dataframe tbody tr th:only-of-type {\n",
       "        vertical-align: middle;\n",
       "    }\n",
       "\n",
       "    .dataframe tbody tr th {\n",
       "        vertical-align: top;\n",
       "    }\n",
       "\n",
       "    .dataframe thead th {\n",
       "        text-align: right;\n",
       "    }\n",
       "</style>\n",
       "<table border=\"1\" class=\"dataframe\">\n",
       "  <thead>\n",
       "    <tr style=\"text-align: right;\">\n",
       "      <th></th>\n",
       "      <th>content</th>\n",
       "      <th>id</th>\n",
       "      <th>likes</th>\n",
       "      <th>title</th>\n",
       "      <th>unlikes</th>\n",
       "      <th>url</th>\n",
       "    </tr>\n",
       "  </thead>\n",
       "  <tbody>\n",
       "    <tr>\n",
       "      <th>0</th>\n",
       "      <td>平时负责后勤工作。今天检查员工宿舍卫生情况，发现厨师空调没关，就顺手关了，然后去和厨师说了下...</td>\n",
       "      <td>217358</td>\n",
       "      <td>983</td>\n",
       "      <td>平时负责后勤工作</td>\n",
       "      <td>-14</td>\n",
       "      <td>http://www.waduanzi.com/archives/217358</td>\n",
       "    </tr>\n",
       "    <tr>\n",
       "      <th>1</th>\n",
       "      <td>公司抽奖，我和一女同事抽到连着的电影票。</td>\n",
       "      <td>217359</td>\n",
       "      <td>1356</td>\n",
       "      <td>公司抽奖，我和一女同事抽到连着的电影票</td>\n",
       "      <td>-6</td>\n",
       "      <td>http://www.waduanzi.com/archives/217359</td>\n",
       "    </tr>\n",
       "    <tr>\n",
       "      <th>2</th>\n",
       "      <td>在街上一哥们过来问我，兄弟要不要手机？我说：什么型号的，几成新？他深吸一口烟，缓缓的开口说道：</td>\n",
       "      <td>217360</td>\n",
       "      <td>1196</td>\n",
       "      <td>在街上一哥们过来问我，兄弟要不要手机</td>\n",
       "      <td>-16</td>\n",
       "      <td>http://www.waduanzi.com/archives/217360</td>\n",
       "    </tr>\n",
       "    <tr>\n",
       "      <th>3</th>\n",
       "      <td>一室友友趁有钱男友出差和网友幽会，结果发现中招了，无奈约了自己闺蜜陪去的医院。</td>\n",
       "      <td>217361</td>\n",
       "      <td>1336</td>\n",
       "      <td>一室友友趁有钱男友出差和网友幽 会，结果发现中招了，</td>\n",
       "      <td>-13</td>\n",
       "      <td>http://www.waduanzi.com/archives/217361</td>\n",
       "    </tr>\n",
       "    <tr>\n",
       "      <th>4</th>\n",
       "      <td>本人女，34岁，家庭主妇一枚，现求工作一份，非正当不做！最好照顾孩子两不误，求各位帅哥美女给...</td>\n",
       "      <td>217362</td>\n",
       "      <td>1056</td>\n",
       "      <td>本人女</td>\n",
       "      <td>-11</td>\n",
       "      <td>http://www.waduanzi.com/archives/217362</td>\n",
       "    </tr>\n",
       "  </tbody>\n",
       "</table>\n",
       "</div>"
      ],
      "text/plain": [
       "                                             content      id  likes  \\\n",
       "0  平时负责后勤工作。今天检查员工宿舍卫生情况，发现厨师空调没关，就顺手关了，然后去和厨师说了下...  217358    983   \n",
       "1                               公司抽奖，我和一女同事抽到连着的电影票。  217359   1356   \n",
       "2    在街上一哥们过来问我，兄弟要不要手机？我说：什么型号的，几成新？他深吸一口烟，缓缓的开口说道：  217360   1196   \n",
       "3            一室友友趁有钱男友出差和网友幽会，结果发现中招了，无奈约了自己闺蜜陪去的医院。  217361   1336   \n",
       "4  本人女，34岁，家庭主妇一枚，现求工作一份，非正当不做！最好照顾孩子两不误，求各位帅哥美女给...  217362   1056   \n",
       "\n",
       "                        title  unlikes  \\\n",
       "0                    平时负责后勤工作      -14   \n",
       "1         公司抽奖，我和一女同事抽到连着的电影票       -6   \n",
       "2          在街上一哥们过来问我，兄弟要不要手机      -16   \n",
       "3  一室友友趁有钱男友出差和网友幽 会，结果发现中招了，      -13   \n",
       "4                         本人女      -11   \n",
       "\n",
       "                                       url  \n",
       "0  http://www.waduanzi.com/archives/217358  \n",
       "1  http://www.waduanzi.com/archives/217359  \n",
       "2  http://www.waduanzi.com/archives/217360  \n",
       "3  http://www.waduanzi.com/archives/217361  \n",
       "4  http://www.waduanzi.com/archives/217362  "
      ]
     },
     "execution_count": 12,
     "metadata": {},
     "output_type": "execute_result"
    }
   ],
   "source": [
    "df.head()"
   ]
  },
  {
   "cell_type": "code",
   "execution_count": 13,
   "metadata": {},
   "outputs": [],
   "source": [
    "jokes_ori = df['content']"
   ]
  },
  {
   "cell_type": "code",
   "execution_count": 14,
   "metadata": {},
   "outputs": [
    {
     "data": {
      "text/plain": [
       "0    平时负责后勤工作。今天检查员工宿舍卫生情况，发现厨师空调没关，就顺手关了，然后去和厨师说了下...\n",
       "1                                 公司抽奖，我和一女同事抽到连着的电影票。\n",
       "2      在街上一哥们过来问我，兄弟要不要手机？我说：什么型号的，几成新？他深吸一口烟，缓缓的开口说道：\n",
       "3              一室友友趁有钱男友出差和网友幽会，结果发现中招了，无奈约了自己闺蜜陪去的医院。\n",
       "4    本人女，34岁，家庭主妇一枚，现求工作一份，非正当不做！最好照顾孩子两不误，求各位帅哥美女给...\n",
       "5    楼主洒水车司机，今天正工作呢，看见一男子骑着电驴子载个女的，不走侧道走主道，恰恰公路两边是很...\n",
       "6                 高中一学弟，打球摔断了左手和右腿，所以每天他妈妈推着轮椅来送他上下学，。\n",
       "7    买个房子还要什么单身证明！你是瞧不起单身啊，还要证明昭告天下？信不信我叫两声吓死你！wao！...\n",
       "8    我去我哥家，刚坐下，还没冲茶，我嫂子在厨房问：“老公，你要柠檬味的，还是姜汁味的？要热的还是...\n",
       "9                                            一美女来公司送货。\n",
       "Name: content, dtype: object"
      ]
     },
     "execution_count": 14,
     "metadata": {},
     "output_type": "execute_result"
    }
   ],
   "source": [
    "jokes_ori[:10]"
   ]
  },
  {
   "cell_type": "markdown",
   "metadata": {},
   "source": [
    "### 清洗数据"
   ]
  },
  {
   "cell_type": "code",
   "execution_count": 15,
   "metadata": {},
   "outputs": [],
   "source": [
    "clean_data = lambda x:  re.findall(r'\\w+', x)"
   ]
  },
  {
   "cell_type": "code",
   "execution_count": 16,
   "metadata": {},
   "outputs": [],
   "source": [
    "joke_test = clean_data(jokes_ori[0])"
   ]
  },
  {
   "cell_type": "code",
   "execution_count": 17,
   "metadata": {},
   "outputs": [
    {
     "data": {
      "text/plain": [
       "['平时负责后勤工作',\n",
       " '今天检查员工宿舍卫生情况',\n",
       " '发现厨师空调没关',\n",
       " '就顺手关了',\n",
       " '然后去和厨师说了下',\n",
       " '下次离开宿舍前空调要关了',\n",
       " '结果中午吃排骨',\n",
       " '厨师给我打一碗大骨头',\n",
       " '基本没肉',\n",
       " '我看其他同事全是肉']"
      ]
     },
     "execution_count": 17,
     "metadata": {},
     "output_type": "execute_result"
    }
   ],
   "source": [
    "joke_test"
   ]
  },
  {
   "cell_type": "code",
   "execution_count": 18,
   "metadata": {},
   "outputs": [],
   "source": [
    "jokes = [clean_data(str) for str in jokes_ori]"
   ]
  },
  {
   "cell_type": "code",
   "execution_count": 19,
   "metadata": {},
   "outputs": [
    {
     "data": {
      "text/plain": [
       "[['平时负责后勤工作',\n",
       "  '今天检查员工宿舍卫生情况',\n",
       "  '发现厨师空调没关',\n",
       "  '就顺手关了',\n",
       "  '然后去和厨师说了下',\n",
       "  '下次离开宿舍前空调要关了',\n",
       "  '结果中午吃排骨',\n",
       "  '厨师给我打一碗大骨头',\n",
       "  '基本没肉',\n",
       "  '我看其他同事全是肉'],\n",
       " ['公司抽奖', '我和一女同事抽到连着的电影票'],\n",
       " ['在街上一哥们过来问我', '兄弟要不要手机', '我说', '什么型号的', '几成新', '他深吸一口烟', '缓缓的开口说道'],\n",
       " ['一室友友趁有钱男友出差和网友幽会', '结果发现中招了', '无奈约了自己闺蜜陪去的医院'],\n",
       " ['本人女',\n",
       "  '34岁',\n",
       "  '家庭主妇一枚',\n",
       "  '现求工作一份',\n",
       "  '非正当不做',\n",
       "  '最好照顾孩子两不误',\n",
       "  '求各位帅哥美女给过了',\n",
       "  '最好是新乡市里的'],\n",
       " ['楼主洒水车司机',\n",
       "  '今天正工作呢',\n",
       "  '看见一男子骑着电驴子载个女的',\n",
       "  '不走侧道走主道',\n",
       "  '恰恰公路两边是很长的那种花坛',\n",
       "  '男的停下电车',\n",
       "  '一人翻花坛跑了',\n",
       "  '女的双手抱头等着被淋',\n",
       "  '我只能把水停了',\n",
       "  '顺便告诉她',\n",
       "  '妹啊',\n",
       "  '找个像我这样的好人再嫁一次吧',\n",
       "  '看着妹子那感激的眼神',\n",
       "  '第一次这么痛恨自己为嘛是女人'],\n",
       " ['高中一学弟', '打球摔断了左手和右腿', '所以每天他妈妈推着轮椅来送他上下学'],\n",
       " ['买个房子还要什么单身证明', '你是瞧不起单身啊', '还要证明昭告天下', '信不信我叫两声吓死你', 'wao', 'wao', 'waowu'],\n",
       " ['我去我哥家', '刚坐下', '还没冲茶', '我嫂子在厨房问', '老公', '你要柠檬味的', '还是姜汁味的', '要热的还是冷的'],\n",
       " ['一美女来公司送货']]"
      ]
     },
     "execution_count": 19,
     "metadata": {},
     "output_type": "execute_result"
    }
   ],
   "source": [
    "jokes[:10]"
   ]
  },
  {
   "cell_type": "markdown",
   "metadata": {},
   "source": [
    "### 切词获取胞词库"
   ]
  },
  {
   "cell_type": "code",
   "execution_count": 20,
   "metadata": {},
   "outputs": [],
   "source": [
    "cutor = lambda x: jieba.lcut(x)"
   ]
  },
  {
   "cell_type": "code",
   "execution_count": 21,
   "metadata": {},
   "outputs": [
    {
     "name": "stderr",
     "output_type": "stream",
     "text": [
      "Building prefix dict from the default dictionary ...\n",
      "Loading model from cache C:\\Users\\shredder\\AppData\\Local\\Temp\\jieba.cache\n",
      "Loading model cost 0.576 seconds.\n",
      "Prefix dict has been built succesfully.\n"
     ]
    }
   ],
   "source": [
    "joke_cut_test = cutor(''.join(joke_test))"
   ]
  },
  {
   "cell_type": "code",
   "execution_count": 22,
   "metadata": {},
   "outputs": [
    {
     "data": {
      "text/plain": [
       "['平时',\n",
       " '负责',\n",
       " '后勤工作',\n",
       " '今天',\n",
       " '检查',\n",
       " '员工',\n",
       " '宿舍',\n",
       " '卫生',\n",
       " '情况',\n",
       " '发现',\n",
       " '厨师',\n",
       " '空调',\n",
       " '没关',\n",
       " '就',\n",
       " '顺手',\n",
       " '关',\n",
       " '了',\n",
       " '然后',\n",
       " '去',\n",
       " '和',\n",
       " '厨师',\n",
       " '说',\n",
       " '了',\n",
       " '下',\n",
       " '下次',\n",
       " '离开',\n",
       " '宿舍',\n",
       " '前',\n",
       " '空调',\n",
       " '要关',\n",
       " '了',\n",
       " '结果',\n",
       " '中午',\n",
       " '吃',\n",
       " '排骨',\n",
       " '厨师',\n",
       " '给',\n",
       " '我',\n",
       " '打',\n",
       " '一碗',\n",
       " '大',\n",
       " '骨头',\n",
       " '基本',\n",
       " '没肉',\n",
       " '我',\n",
       " '看',\n",
       " '其他',\n",
       " '同事',\n",
       " '全是',\n",
       " '肉']"
      ]
     },
     "execution_count": 22,
     "metadata": {},
     "output_type": "execute_result"
    }
   ],
   "source": [
    "joke_cut_test"
   ]
  },
  {
   "cell_type": "code",
   "execution_count": 23,
   "metadata": {},
   "outputs": [],
   "source": [
    "corpus = []"
   ]
  },
  {
   "cell_type": "code",
   "execution_count": 24,
   "metadata": {},
   "outputs": [
    {
     "name": "stdout",
     "output_type": "stream",
     "text": [
      "已处理了0个\n",
      "已处理了1000个\n",
      "已处理了2000个\n",
      "已处理了3000个\n",
      "已处理了4000个\n",
      "已处理了5000个\n",
      "已处理了6000个\n",
      "已处理了7000个\n",
      "已处理了8000个\n",
      "已处理了9000个\n",
      "已处理了10000个\n",
      "已处理了11000个\n",
      "已处理了12000个\n",
      "已处理了13000个\n",
      "已处理了14000个\n",
      "已处理了15000个\n",
      "已处理了16000个\n",
      "已处理了17000个\n",
      "已处理了18000个\n",
      "已处理了19000个\n",
      "已处理了20000个\n",
      "已处理了21000个\n",
      "已处理了22000个\n",
      "已处理了23000个\n",
      "已处理了24000个\n",
      "已处理了25000个\n",
      "已处理了26000个\n",
      "已处理了27000个\n",
      "已处理了28000个\n",
      "已处理了29000个\n",
      "已处理了30000个\n",
      "已处理了31000个\n",
      "已处理了32000个\n",
      "已处理了33000个\n",
      "已处理了34000个\n",
      "已处理了35000个\n",
      "已处理了36000个\n",
      "已处理了37000个\n",
      "已处理了38000个\n",
      "已处理了39000个\n",
      "已处理了40000个\n",
      "已处理了41000个\n",
      "已处理了42000个\n",
      "已处理了43000个\n",
      "已处理了44000个\n",
      "已处理了45000个\n",
      "已处理了46000个\n",
      "已处理了47000个\n",
      "已处理了48000个\n",
      "已处理了49000个\n",
      "已处理了50000个\n",
      "已处理了51000个\n",
      "已处理了52000个\n",
      "已处理了53000个\n",
      "已处理了54000个\n",
      "已处理了55000个\n",
      "已处理了56000个\n",
      "已处理了57000个\n",
      "已处理了58000个\n",
      "已处理了59000个\n",
      "已处理了60000个\n"
     ]
    }
   ],
   "source": [
    "for i, joke in enumerate(jokes):\n",
    "    corpus += cutor(''.join(joke))\n",
    "    if i % 1000 == 0: \n",
    "        print(\"已处理了%d个\" % i)"
   ]
  },
  {
   "cell_type": "code",
   "execution_count": 25,
   "metadata": {},
   "outputs": [
    {
     "data": {
      "text/plain": [
       "2464276"
      ]
     },
     "execution_count": 25,
     "metadata": {},
     "output_type": "execute_result"
    }
   ],
   "source": [
    "len(corpus)"
   ]
  },
  {
   "cell_type": "code",
   "execution_count": 26,
   "metadata": {},
   "outputs": [],
   "source": [
    "count = Counter(corpus)"
   ]
  },
  {
   "cell_type": "code",
   "execution_count": 27,
   "metadata": {},
   "outputs": [
    {
     "data": {
      "text/plain": [
       "[('的', 107835),\n",
       " ('我', 92394),\n",
       " ('了', 91924),\n",
       " ('你', 41096),\n",
       " ('说', 34940),\n",
       " ('是', 27615),\n",
       " ('在', 25913),\n",
       " ('就', 25372),\n",
       " ('他', 24381),\n",
       " ('她', 18079),\n",
       " ('都', 16512),\n",
       " ('不', 15921),\n",
       " ('一个', 15878),\n",
       " ('有', 15256),\n",
       " ('去', 13681),\n",
       " ('给', 12205),\n",
       " ('着', 11525),\n",
       " ('和', 10945),\n",
       " ('一', 10862),\n",
       " ('也', 9998),\n",
       " ('啊', 9871),\n",
       " ('把', 9837),\n",
       " ('上', 9481),\n",
       " ('问', 9349),\n",
       " ('人', 9079),\n",
       " ('到', 9042),\n",
       " ('还', 8575),\n",
       " ('看', 8223),\n",
       " ('这', 8050),\n",
       " ('要', 7979),\n",
       " ('那', 7411),\n",
       " ('对', 7357),\n",
       " ('没', 7286),\n",
       " ('我们', 7047),\n",
       " ('什么', 7024),\n",
       " ('来', 6887),\n",
       " ('吃', 6731),\n",
       " ('又', 6656),\n",
       " ('老婆', 6652),\n",
       " ('很', 6612),\n",
       " ('好', 6559),\n",
       " ('时候', 6488),\n",
       " ('个', 6436),\n",
       " ('吗', 6358),\n",
       " ('想', 6316),\n",
       " ('吧', 6216),\n",
       " ('今天', 5966),\n",
       " ('被', 5940),\n",
       " ('跟', 5854),\n",
       " ('然后', 5722)]"
      ]
     },
     "execution_count": 27,
     "metadata": {},
     "output_type": "execute_result"
    }
   ],
   "source": [
    "count.most_common(50)"
   ]
  },
  {
   "cell_type": "markdown",
   "metadata": {},
   "source": [
    "### 使用2-gram预测"
   ]
  },
  {
   "cell_type": "code",
   "execution_count": 28,
   "metadata": {},
   "outputs": [],
   "source": [
    "corpus_2 = [corpus[i] + corpus[i+1] for i in range(len(corpus) - 1)]"
   ]
  },
  {
   "cell_type": "code",
   "execution_count": 29,
   "metadata": {},
   "outputs": [
    {
     "data": {
      "text/plain": [
       "['平时负责',\n",
       " '负责后勤工作',\n",
       " '后勤工作今天',\n",
       " '今天检查',\n",
       " '检查员工',\n",
       " '员工宿舍',\n",
       " '宿舍卫生',\n",
       " '卫生情况',\n",
       " '情况发现',\n",
       " '发现厨师',\n",
       " '厨师空调',\n",
       " '空调没关',\n",
       " '没关就',\n",
       " '就顺手',\n",
       " '顺手关',\n",
       " '关了',\n",
       " '了然后',\n",
       " '然后去',\n",
       " '去和',\n",
       " '和厨师',\n",
       " '厨师说',\n",
       " '说了',\n",
       " '了下',\n",
       " '下下次',\n",
       " '下次离开',\n",
       " '离开宿舍',\n",
       " '宿舍前',\n",
       " '前空调',\n",
       " '空调要关',\n",
       " '要关了',\n",
       " '了结果',\n",
       " '结果中午',\n",
       " '中午吃',\n",
       " '吃排骨',\n",
       " '排骨厨师',\n",
       " '厨师给',\n",
       " '给我',\n",
       " '我打',\n",
       " '打一碗',\n",
       " '一碗大',\n",
       " '大骨头',\n",
       " '骨头基本',\n",
       " '基本没肉',\n",
       " '没肉我',\n",
       " '我看',\n",
       " '看其他',\n",
       " '其他同事',\n",
       " '同事全是',\n",
       " '全是肉',\n",
       " '肉公司']"
      ]
     },
     "execution_count": 29,
     "metadata": {},
     "output_type": "execute_result"
    }
   ],
   "source": [
    "corpus_2[:50]"
   ]
  },
  {
   "cell_type": "code",
   "execution_count": 30,
   "metadata": {},
   "outputs": [],
   "source": [
    "count_2 = Counter(corpus_2)"
   ]
  },
  {
   "cell_type": "code",
   "execution_count": 31,
   "metadata": {},
   "outputs": [
    {
     "data": {
      "text/plain": [
       "[('了我', 5987),\n",
       " ('的时候', 5426),\n",
       " ('我的', 4629),\n",
       " ('我说', 3971),\n",
       " ('说我', 3781),\n",
       " ('给我', 3202),\n",
       " ('我就', 3149),\n",
       " ('说你', 3033),\n",
       " ('你的', 2528),\n",
       " ('的人', 2205),\n",
       " ('的说', 2193),\n",
       " ('都是', 2149),\n",
       " ('的我', 2114),\n",
       " ('我是', 1891),\n",
       " ('了个', 1877),\n",
       " ('了一个', 1861),\n",
       " ('问我', 1805),\n",
       " ('不知道', 1745),\n",
       " ('的是', 1738),\n",
       " ('来了', 1712)]"
      ]
     },
     "execution_count": 31,
     "metadata": {},
     "output_type": "execute_result"
    }
   ],
   "source": [
    "count_2.most_common(20)"
   ]
  },
  {
   "cell_type": "code",
   "execution_count": 32,
   "metadata": {},
   "outputs": [],
   "source": [
    "corpus_2_len = len(corpus_2)"
   ]
  },
  {
   "cell_type": "code",
   "execution_count": 33,
   "metadata": {},
   "outputs": [
    {
     "data": {
      "text/plain": [
       "2464275"
      ]
     },
     "execution_count": 33,
     "metadata": {},
     "output_type": "execute_result"
    }
   ],
   "source": [
    "corpus_2_len"
   ]
  },
  {
   "cell_type": "code",
   "execution_count": 34,
   "metadata": {},
   "outputs": [],
   "source": [
    "count_2_len = len(count_2)"
   ]
  },
  {
   "cell_type": "code",
   "execution_count": 35,
   "metadata": {},
   "outputs": [
    {
     "data": {
      "text/plain": [
       "946634"
      ]
     },
     "execution_count": 35,
     "metadata": {},
     "output_type": "execute_result"
    }
   ],
   "source": [
    "count_2_len"
   ]
  },
  {
   "cell_type": "code",
   "execution_count": 36,
   "metadata": {},
   "outputs": [],
   "source": [
    "def prob_2(sentence):\n",
    "    cells = cutor(''.join(clean_data(sentence)))\n",
    "    sen_pro = 1\n",
    "    for i, cell in enumerate(cells[:-1]):\n",
    "        cell_n = cells[i+1]\n",
    "        cell_pro = (count_2[cell+cell_n] + 1) / (corpus_2_len + count_2_len)\n",
    "        sen_pro *= cell_pro\n",
    "    return sen_pro"
   ]
  },
  {
   "cell_type": "code",
   "execution_count": 37,
   "metadata": {},
   "outputs": [
    {
     "data": {
      "text/plain": [
       "9.313685389065057e-17"
      ]
     },
     "execution_count": 37,
     "metadata": {},
     "output_type": "execute_result"
    }
   ],
   "source": [
    "prob_2(\"大妈跳广场舞\")"
   ]
  },
  {
   "cell_type": "code",
   "execution_count": 38,
   "metadata": {},
   "outputs": [
    {
     "data": {
      "text/plain": [
       "3.1045617963550187e-17"
      ]
     },
     "execution_count": 38,
     "metadata": {},
     "output_type": "execute_result"
    }
   ],
   "source": [
    "prob_2(\"美女跳广场舞\")"
   ]
  },
  {
   "cell_type": "markdown",
   "metadata": {},
   "source": [
    "### 判断生成句子合理性"
   ]
  },
  {
   "cell_type": "code",
   "execution_count": 108,
   "metadata": {},
   "outputs": [],
   "source": [
    "gram = \"\"\"\n",
    "sentence => noun_phrase verb_phrase\n",
    "noun_phrase => Article Adj* noun\n",
    "Adj* => null | Adj Adj*\n",
    "verb_phrase => verb noun_phrase\n",
    "Article =>  一个 | 这个|那个|此\n",
    "noun =>   女人 |  篮球 | 桌子 | 小猫|二哈|大爷|小明\n",
    "verb => 看着   |  坐在 |  听着 | 看见\n",
    "Adj =>  蓝色的 | 好看的 | 小小的|漂亮的|洋气的\n",
    "\"\"\"\n",
    "generator = SentenceGenerator(gram, target_split='=>')"
   ]
  },
  {
   "cell_type": "code",
   "execution_count": 109,
   "metadata": {},
   "outputs": [
    {
     "data": {
      "text/plain": [
       "['此好看的篮球听着此桌子',\n",
       " '那个洋气的漂亮的蓝色的小明看着一个蓝色的二哈',\n",
       " '一个大爷听着此洋气的蓝色的小明',\n",
       " '那个女人坐在这个漂亮的桌子',\n",
       " '这个二哈看着此大爷',\n",
       " '那个女人听着这个洋气的漂亮的二哈',\n",
       " '一个二哈听着这个大爷',\n",
       " '此篮球坐在一个蓝色的蓝色的桌子',\n",
       " '此桌子看见一个漂亮的篮球',\n",
       " '那个洋气的漂亮的蓝色的小小的小小的小小的好看的洋气的桌子看见此女人']"
      ]
     },
     "execution_count": 109,
     "metadata": {},
     "output_type": "execute_result"
    }
   ],
   "source": [
    "sentences = generator.get_sentences('sentence', 10)\n",
    "sentences"
   ]
  },
  {
   "cell_type": "code",
   "execution_count": 110,
   "metadata": {},
   "outputs": [],
   "source": [
    "def get_best_sentence(sentences):\n",
    "    pros = [(sen, prob_2(sen)) for sen in sentences]\n",
    "    return(sorted(pros, key=itemgetter(1), reverse=True))\n",
    "        "
   ]
  },
  {
   "cell_type": "code",
   "execution_count": 111,
   "metadata": {},
   "outputs": [
    {
     "data": {
      "text/plain": [
       "[('这个二哈看着此大爷', 7.387873798496053e-27),\n",
       " ('一个二哈听着这个大爷', 1.1436239916121822e-29),\n",
       " ('此桌子看见一个漂亮的篮球', 2.3731277972034352e-33),\n",
       " ('那个女人坐在这个漂亮的桌子', 8.470422619388833e-34),\n",
       " ('此好看的篮球听着此桌子', 3.9319047001891e-42),\n",
       " ('此篮球坐在一个蓝色的蓝色的桌子', 2.9473566801752426e-48),\n",
       " ('那个女人听着这个洋气的漂亮的二哈', 2.3375067078343082e-48),\n",
       " ('一个大爷听着此洋气的蓝色的小明', 7.74487057938285e-52),\n",
       " ('那个洋气的漂亮的蓝色的小明看着一个蓝色的二哈', 1.9401740862533755e-68),\n",
       " ('那个洋气的漂亮的蓝色的小小的小小的小小的好看的洋气的桌子看见此女人', 5.1058295530804514e-101)]"
      ]
     },
     "execution_count": 111,
     "metadata": {},
     "output_type": "execute_result"
    }
   ],
   "source": [
    "get_best_sentence(sentences)"
   ]
  },
  {
   "cell_type": "markdown",
   "metadata": {},
   "source": [
    "## 总结"
   ]
  },
  {
   "cell_type": "markdown",
   "metadata": {},
   "source": [
    "语料库来自6万多个小段子，其语境应该比较贴合生活和网络用语，最后合理性判断的结果一般，除了知道语料库不大以外，还需要进一步分析优化算法。"
   ]
  }
 ],
 "metadata": {
  "kernelspec": {
   "display_name": "Python 3",
   "language": "python",
   "name": "python3"
  },
  "language_info": {
   "codemirror_mode": {
    "name": "ipython",
    "version": 3
   },
   "file_extension": ".py",
   "mimetype": "text/x-python",
   "name": "python",
   "nbconvert_exporter": "python",
   "pygments_lexer": "ipython3",
   "version": "3.7.1"
  }
 },
 "nbformat": 4,
 "nbformat_minor": 2
}
