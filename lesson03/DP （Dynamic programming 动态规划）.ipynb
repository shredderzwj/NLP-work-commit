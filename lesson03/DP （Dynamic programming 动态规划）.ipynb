{
 "cells": [
  {
   "cell_type": "markdown",
   "metadata": {},
   "source": [
    "# <center>DP （Dynamic programming 动态规划）</center>"
   ]
  },
  {
   "cell_type": "markdown",
   "metadata": {},
   "source": [
    "### 概念意义\n",
    "+ 动态规划问世以来，在经济管理、生产调度、工程技术和最优控制等方面得到了广泛的应用。例如最短路线、库存管理、资源分配、设备更新、排序、装载等问题，用动态规划方法比用其它方法求解更为方便。\n",
    "+ 虽然动态规划主要用于求解以时间划分阶段的动态过程的优化问题，但是一些与时间无关的静态规划(如线性规划、非线性规划)，只要人为地引进时间因素，把它视为多阶段决策过程，也可以用动态规划方法方便地求解。\n",
    "+ 动态规划程序设计是对解最优化问题的一种途径、一种方法，而不是一种特殊算法。不像搜索或数值计算那样，具有一个标准的数学表达式和明确清晰的解题方法。动态规划程序设计往往是针对一种最优化问题，由于各种问题的性质不同，确定最优解的条件也互不相同，因而动态规划的设计方法对不同的问题，有各具特色的解题方法，而不存在一种万能的动态规划算法，可以解决各类最优化问题。因此读者在学习时，除了要对基本概念和方法正确理解外，必须具体问题具体分析处理，以丰富的想象力去建立模型，用创造性的技巧去求解。我们也可以通过对若干有代表性的问题的动态规划算法进行分析、讨论，逐渐学会并掌握这一设计方法。\n",
    "\n",
    "### 概念引入\n",
    "+ 多阶段决策过程的最优化问题。\n",
    "+ 含有递推的思想以及各种数学原理（加法原理，乘法原理等等）。\n",
    "+ 在现实生活中，有一类活动的过程，由于它的特殊性，可将过程分成若干个互相联系的阶段，在它的每一阶段都需要作出决策，从而使整个过程达到最好的活动效果。当然，各个阶段决策的选取不是任意确定的，它依赖于当前面临的状态，又影响以后的发展，当各个阶段决策确定后，就组成一个决策序列，因而也就确定了整个过程的一条活动路线，这种把一个问题看作是一个前后关联具有链状结构的多阶段过程就称为多阶段决策过程，这种问题就称为多阶段决策问题。\n",
    "\n",
    "### 基本思想\n",
    "+ 动态规划算法通常用于求解具有某种最优性质的问题。在这类问题中，可能会有许多可行解。每一个解都对应于一个值，我们希望找到具有最优值的解。动态规划算法与分治法类似，其基本思想也是将待求解问题分解成若干个子问题，先求解子问题，然后从这些子问题的解得到原问题的解。与分治法不同的是，适合于用动态规划求解的问题，经分解得到子问题往往不是互相独立的。若用分治法来解这类问题，则分解得到的子问题数目太多，有些子问题被重复计算了很多次。如果我们能够保存已解决的子问题的答案，而在需要时再找出已求得的答案，这样就可以避免大量的重复计算，节省时间。我们可以用一个表来记录所有已解的子问题的答案。不管该子问题以后是否被用到，只要它被计算过，就将其结果填入表中。这就是动态规划法的基本思路。具体的动态规划算法多种多样，但它们具有相同的填表格式。\n",
    "\n",
    "##### 以上引自百度百科：https://baike.baidu.com/item/%E5%8A%A8%E6%80%81%E8%A7%84%E5%88%92/529408?fr=aladdin"
   ]
  },
  {
   "cell_type": "markdown",
   "metadata": {},
   "source": [
    "## example problem\n",
    "问题描述：钢筋场有一批钢筋，长度与价格关系如下：1~11m -> [1, 5, 8, 9, 10, 17, 17, 20, 24, 30, 35]，问：给定一根n米长的钢筋，怎么截断能使卖的钱最多？"
   ]
  },
  {
   "cell_type": "code",
   "execution_count": 4,
   "metadata": {},
   "outputs": [],
   "source": [
    "from collections import defaultdict"
   ]
  },
  {
   "cell_type": "code",
   "execution_count": 5,
   "metadata": {},
   "outputs": [],
   "source": [
    "original_price = [1, 5, 8, 9, 10, 13, 17, 20, 24, 30, 35]"
   ]
  },
  {
   "cell_type": "code",
   "execution_count": 6,
   "metadata": {},
   "outputs": [],
   "source": [
    "price = defaultdict(int)"
   ]
  },
  {
   "cell_type": "code",
   "execution_count": 7,
   "metadata": {},
   "outputs": [],
   "source": [
    "for i, p in enumerate(original_price):\n",
    "    price[i+1] = p"
   ]
  },
  {
   "cell_type": "code",
   "execution_count": 8,
   "metadata": {},
   "outputs": [
    {
     "data": {
      "text/plain": [
       "defaultdict(int,\n",
       "            {1: 1,\n",
       "             2: 5,\n",
       "             3: 8,\n",
       "             4: 9,\n",
       "             5: 10,\n",
       "             6: 13,\n",
       "             7: 17,\n",
       "             8: 20,\n",
       "             9: 24,\n",
       "             10: 30,\n",
       "             11: 35})"
      ]
     },
     "execution_count": 8,
     "metadata": {},
     "output_type": "execute_result"
    }
   ],
   "source": [
    "price"
   ]
  },
  {
   "cell_type": "markdown",
   "metadata": {},
   "source": [
    "## solution"
   ]
  },
  {
   "cell_type": "markdown",
   "metadata": {},
   "source": [
    "$$r_n = max(p_n,  r_1+r_{n-1},  r_2+r_{n-2},  \\dots  ,  r_{n-2}+r2,  r_{n-1}+r_1)$$"
   ]
  },
  {
   "cell_type": "markdown",
   "metadata": {},
   "source": [
    "一般解法：搜索每种情况"
   ]
  },
  {
   "cell_type": "code",
   "execution_count": 9,
   "metadata": {},
   "outputs": [],
   "source": [
    "from functools import wraps\n",
    "import sys\n",
    "sys.setrecursionlimit(10000)  # python 默认最大递归深度大约900多， 这里指定最大递归深度"
   ]
  },
  {
   "cell_type": "code",
   "execution_count": 10,
   "metadata": {},
   "outputs": [],
   "source": [
    "called_time = defaultdict(int)\n",
    "def get_call_time(f):\n",
    "    \"\"\"函数调用次数计算\"\"\"\n",
    "    @wraps(f)\n",
    "    def wrap(n):\n",
    "        result = f(n)\n",
    "        called_time[f.__name__, n] += 1\n",
    "        return result\n",
    "    return wrap\n",
    "    "
   ]
  },
  {
   "cell_type": "code",
   "execution_count": 11,
   "metadata": {},
   "outputs": [],
   "source": [
    "@get_call_time\n",
    "def r(n):\n",
    "    return max(\n",
    "         [price[n]] + [r(i) + r(n-i) for i in range(1, n)]\n",
    "    )"
   ]
  },
  {
   "cell_type": "code",
   "execution_count": 12,
   "metadata": {},
   "outputs": [
    {
     "data": {
      "text/plain": [
       "40"
      ]
     },
     "execution_count": 12,
     "metadata": {},
     "output_type": "execute_result"
    }
   ],
   "source": [
    "called_time = defaultdict(int)\n",
    "r(13)"
   ]
  },
  {
   "cell_type": "code",
   "execution_count": 13,
   "metadata": {},
   "outputs": [
    {
     "data": {
      "text/plain": [
       "defaultdict(int,\n",
       "            {('r', 1): 354294,\n",
       "             ('r', 2): 118098,\n",
       "             ('r', 3): 39366,\n",
       "             ('r', 4): 13122,\n",
       "             ('r', 5): 4374,\n",
       "             ('r', 6): 1458,\n",
       "             ('r', 7): 486,\n",
       "             ('r', 8): 162,\n",
       "             ('r', 9): 54,\n",
       "             ('r', 10): 18,\n",
       "             ('r', 11): 6,\n",
       "             ('r', 12): 2,\n",
       "             ('r', 13): 1})"
      ]
     },
     "execution_count": 13,
     "metadata": {},
     "output_type": "execute_result"
    }
   ],
   "source": [
    "called_time"
   ]
  },
  {
   "cell_type": "markdown",
   "metadata": {},
   "source": [
    "+ 动态规划法：观察上面的计算结果，发现有些切分方法计算了很多次，重复工作量大，导致计算效率低下。\n",
    "+ 现在我们能不能想一个办法，把已经计算过的切分方法‘缓存’起来，当需要再次计算的时候直接从‘缓存’中获取，这将大大提高计算效率。\n",
    "+ 当然，这种方法虽然计算效率提高了，但是‘缓存’会占用内存，当计算量大可能占用较多内存导致内存溢出。\n",
    "+ 总而言之吧，根据此例，要有一个概念，任何算法都不是万能的。解决某项问题，找到合适的算法才是最好的。"
   ]
  },
  {
   "cell_type": "code",
   "execution_count": 14,
   "metadata": {},
   "outputs": [],
   "source": [
    "def momery(f):\n",
    "    cache = defaultdict(int)\n",
    "    @wraps(f)\n",
    "    def wrap(n):\n",
    "        if n in cache:\n",
    "            return cache[n]\n",
    "        else:\n",
    "            result = f(n)\n",
    "            cache[n] = result\n",
    "            return result\n",
    "    return wrap"
   ]
  },
  {
   "cell_type": "code",
   "execution_count": 15,
   "metadata": {},
   "outputs": [],
   "source": [
    "solution = defaultdict(int)\n",
    "\n",
    "@momery\n",
    "@get_call_time\n",
    "def r(n):\n",
    "    totle, split = max(\n",
    "         [(price[n], n)] + [(r(i) + r(n-i), i) for i in range(1, n)],\n",
    "         key=lambda x: x[0]\n",
    "    )\n",
    "    solution[n] = (split, n-split)\n",
    "    return totle"
   ]
  },
  {
   "cell_type": "code",
   "execution_count": 16,
   "metadata": {},
   "outputs": [
    {
     "data": {
      "text/plain": [
       "83"
      ]
     },
     "execution_count": 16,
     "metadata": {},
     "output_type": "execute_result"
    }
   ],
   "source": [
    "called_time = defaultdict(int)\n",
    "r(27)"
   ]
  },
  {
   "cell_type": "code",
   "execution_count": 17,
   "metadata": {},
   "outputs": [
    {
     "data": {
      "text/plain": [
       "defaultdict(int,\n",
       "            {('r', 1): 1,\n",
       "             ('r', 2): 1,\n",
       "             ('r', 3): 1,\n",
       "             ('r', 4): 1,\n",
       "             ('r', 5): 1,\n",
       "             ('r', 6): 1,\n",
       "             ('r', 7): 1,\n",
       "             ('r', 8): 1,\n",
       "             ('r', 9): 1,\n",
       "             ('r', 10): 1,\n",
       "             ('r', 11): 1,\n",
       "             ('r', 12): 1,\n",
       "             ('r', 13): 1,\n",
       "             ('r', 14): 1,\n",
       "             ('r', 15): 1,\n",
       "             ('r', 16): 1,\n",
       "             ('r', 17): 1,\n",
       "             ('r', 18): 1,\n",
       "             ('r', 19): 1,\n",
       "             ('r', 20): 1,\n",
       "             ('r', 21): 1,\n",
       "             ('r', 22): 1,\n",
       "             ('r', 23): 1,\n",
       "             ('r', 24): 1,\n",
       "             ('r', 25): 1,\n",
       "             ('r', 26): 1,\n",
       "             ('r', 27): 1})"
      ]
     },
     "execution_count": 17,
     "metadata": {},
     "output_type": "execute_result"
    }
   ],
   "source": [
    "called_time"
   ]
  },
  {
   "cell_type": "code",
   "execution_count": 18,
   "metadata": {},
   "outputs": [
    {
     "data": {
      "text/plain": [
       "defaultdict(int,\n",
       "            {1: (1, 0),\n",
       "             2: (2, 0),\n",
       "             3: (3, 0),\n",
       "             4: (2, 2),\n",
       "             5: (2, 3),\n",
       "             6: (3, 3),\n",
       "             7: (2, 5),\n",
       "             8: (2, 6),\n",
       "             9: (9, 0),\n",
       "             10: (10, 0),\n",
       "             11: (11, 0),\n",
       "             12: (1, 11),\n",
       "             13: (2, 11),\n",
       "             14: (3, 11),\n",
       "             15: (2, 13),\n",
       "             16: (2, 14),\n",
       "             17: (3, 14),\n",
       "             18: (2, 16),\n",
       "             19: (2, 17),\n",
       "             20: (10, 10),\n",
       "             21: (10, 11),\n",
       "             22: (11, 11),\n",
       "             23: (1, 22),\n",
       "             24: (2, 22),\n",
       "             25: (3, 22),\n",
       "             26: (2, 24),\n",
       "             27: (2, 25)})"
      ]
     },
     "execution_count": 18,
     "metadata": {},
     "output_type": "execute_result"
    }
   ],
   "source": [
    "solution"
   ]
  },
  {
   "cell_type": "markdown",
   "metadata": {},
   "source": [
    "### 使用 functools.lri_cache"
   ]
  },
  {
   "cell_type": "code",
   "execution_count": 19,
   "metadata": {},
   "outputs": [],
   "source": [
    "from functools import lru_cache"
   ]
  },
  {
   "cell_type": "code",
   "execution_count": 23,
   "metadata": {},
   "outputs": [],
   "source": [
    "solution = defaultdict(int)\n",
    "\n",
    "@lru_cache(maxsize=10000)\n",
    "@get_call_time\n",
    "def r(n):\n",
    "    totle, split = max(\n",
    "         [(price[n], n)] + [(r(i) + r(n-i), i) for i in range(1, n)],\n",
    "         key=lambda x: x[0]\n",
    "    )\n",
    "    solution[n] = (split, n-split)\n",
    "    return totle"
   ]
  },
  {
   "cell_type": "code",
   "execution_count": 24,
   "metadata": {},
   "outputs": [
    {
     "data": {
      "text/plain": [
       "91"
      ]
     },
     "execution_count": 24,
     "metadata": {},
     "output_type": "execute_result"
    }
   ],
   "source": [
    "called_time = defaultdict(int)\n",
    "r(30)"
   ]
  },
  {
   "cell_type": "code",
   "execution_count": 25,
   "metadata": {},
   "outputs": [
    {
     "data": {
      "text/plain": [
       "defaultdict(int,\n",
       "            {('r', 1): 1,\n",
       "             ('r', 2): 1,\n",
       "             ('r', 3): 1,\n",
       "             ('r', 4): 1,\n",
       "             ('r', 5): 1,\n",
       "             ('r', 6): 1,\n",
       "             ('r', 7): 1,\n",
       "             ('r', 8): 1,\n",
       "             ('r', 9): 1,\n",
       "             ('r', 10): 1,\n",
       "             ('r', 11): 1,\n",
       "             ('r', 12): 1,\n",
       "             ('r', 13): 1,\n",
       "             ('r', 14): 1,\n",
       "             ('r', 15): 1,\n",
       "             ('r', 16): 1,\n",
       "             ('r', 17): 1,\n",
       "             ('r', 18): 1,\n",
       "             ('r', 19): 1,\n",
       "             ('r', 20): 1,\n",
       "             ('r', 21): 1,\n",
       "             ('r', 22): 1,\n",
       "             ('r', 23): 1,\n",
       "             ('r', 24): 1,\n",
       "             ('r', 25): 1,\n",
       "             ('r', 26): 1,\n",
       "             ('r', 27): 1,\n",
       "             ('r', 28): 1,\n",
       "             ('r', 29): 1,\n",
       "             ('r', 30): 1})"
      ]
     },
     "execution_count": 25,
     "metadata": {},
     "output_type": "execute_result"
    }
   ],
   "source": [
    "called_time"
   ]
  },
  {
   "cell_type": "code",
   "execution_count": 26,
   "metadata": {},
   "outputs": [
    {
     "data": {
      "text/plain": [
       "defaultdict(int,\n",
       "            {1: (1, 0),\n",
       "             2: (2, 0),\n",
       "             3: (3, 0),\n",
       "             4: (2, 2),\n",
       "             5: (2, 3),\n",
       "             6: (3, 3),\n",
       "             7: (2, 5),\n",
       "             8: (2, 6),\n",
       "             9: (9, 0),\n",
       "             10: (10, 0),\n",
       "             11: (11, 0),\n",
       "             12: (1, 11),\n",
       "             13: (2, 11),\n",
       "             14: (3, 11),\n",
       "             15: (2, 13),\n",
       "             16: (2, 14),\n",
       "             17: (3, 14),\n",
       "             18: (2, 16),\n",
       "             19: (2, 17),\n",
       "             20: (10, 10),\n",
       "             21: (10, 11),\n",
       "             22: (11, 11),\n",
       "             23: (1, 22),\n",
       "             24: (2, 22),\n",
       "             25: (3, 22),\n",
       "             26: (2, 24),\n",
       "             27: (2, 25),\n",
       "             28: (3, 25),\n",
       "             29: (2, 27),\n",
       "             30: (2, 28)})"
      ]
     },
     "execution_count": 26,
     "metadata": {},
     "output_type": "execute_result"
    }
   ],
   "source": [
    "solution"
   ]
  },
  {
   "cell_type": "markdown",
   "metadata": {},
   "source": [
    "# <center>总结</center>"
   ]
  },
  {
   "cell_type": "markdown",
   "metadata": {},
   "source": [
    "+ 动态规划通俗点说就是在解决可以分为不影响总体结论的子问题时，将已解决的子问题存入表格中，然后在后续如果遇到计算过的子问题，直接查表获取而不进行重复计算。\n",
    "此法为以空间换时间的解决方案。当计算量很大的时候会占用内存过大导致内存溢出，实际操作中应注意此问题。\n",
    "+ 以上的实现方案是利用 python 装饰器（闭包）的操作原理，在不改变原来函数的功能的前提下，增加一个缓存已解决子问题的功能，在进行计算前，先检查子问题是否已经解决，如果已经解决则直接返回值，若未解决，则进行计算，然后将计算结果缓存。\n",
    "+ 可以使用 functools 库中的 lru_cache 函数进行缓存操作。functools.lru_cache的作用主要是用来做缓存，他能把相对耗时的函数结果进行保存，避免传入相同的参数重复计算。同时，缓存并不会无限增长，不用的缓存会被释放。\n",
    "另外：functools.lru_cache(maxsize=128, typed=False)有两个可选参数，我们来看看他们分别代表的意义。\n",
    "maxsize代表缓存的内存占用值，超过这个值之后，就的结果就会被释放，然后将新的计算结果进行缓存,其值应当设为2的幂\n",
    "typed若为True，则会把不同的参数类型得到的结果分开保存。\n",
    "原文：https://blog.csdn.net/wzqnls/article/details/78506022    "
   ]
  },
  {
   "cell_type": "code",
   "execution_count": null,
   "metadata": {},
   "outputs": [],
   "source": []
  }
 ],
 "metadata": {
  "kernelspec": {
   "display_name": "Python 3",
   "language": "python",
   "name": "python3"
  },
  "language_info": {
   "codemirror_mode": {
    "name": "ipython",
    "version": 3
   },
   "file_extension": ".py",
   "mimetype": "text/x-python",
   "name": "python",
   "nbconvert_exporter": "python",
   "pygments_lexer": "ipython3",
   "version": "3.7.3"
  }
 },
 "nbformat": 4,
 "nbformat_minor": 2
}
