{
 "cells": [
  {
   "cell_type": "markdown",
   "metadata": {},
   "source": [
    "# <center>机器学习基础问题</center>"
   ]
  },
  {
   "cell_type": "markdown",
   "metadata": {},
   "source": [
    "### 1. Summarize the reasons of overfitting and underfitting. Put them in github repository. "
   ]
  },
  {
   "cell_type": "markdown",
   "metadata": {},
   "source": [
    "#### Underfitting\n",
    "1. 模型复杂度过低\n",
    "2. 特征量过少\n",
    "\n",
    "#### Overfitting\n",
    "1. 模型太过复杂\n",
    "2. 特征量太多\n",
    "3. 训练集和测试集特征分布不一致\n",
    "4. 数据噪声太大\n",
    "5. 数据量太小\n"
   ]
  },
  {
   "cell_type": "markdown",
   "metadata": {},
   "source": [
    "### 2. install the numpy, scikit-learning, keras, tensorflow "
   ]
  },
  {
   "cell_type": "markdown",
   "metadata": {},
   "source": [
    "#### 已安装"
   ]
  },
  {
   "cell_type": "markdown",
   "metadata": {},
   "source": [
    "### 3. Writing down three sceneries that machine learning has been used now."
   ]
  },
  {
   "cell_type": "markdown",
   "metadata": {},
   "source": [
    "1. 一些分类问题，最典型的就是垃圾邮件识别\n",
    "2. 智能客服聊天机器人\n",
    "3. 商品推荐系统"
   ]
  },
  {
   "cell_type": "markdown",
   "metadata": {},
   "source": [
    "### 4. Come out with three new sceneries with which machine learning may be applied."
   ]
  },
  {
   "cell_type": "markdown",
   "metadata": {},
   "source": [
    "1. 个人健康顾问系统，通过传感器收集个人的生活作息，当他身体不舒服，根据他的生活作息数据，判断不舒服的原因，给出建议。\n",
    "2. 智能水文预报系统，通过各水文站和雨量站监测的水文、雨量数据，建立模型，反应出暴雨与洪水的关系。根据天气预报的降雨量，来预测洪水。\n",
    "3. 智能化养殖， 根据养殖的动物的行为判断是否生病。"
   ]
  },
  {
   "cell_type": "code",
   "execution_count": null,
   "metadata": {},
   "outputs": [],
   "source": []
  }
 ],
 "metadata": {
  "kernelspec": {
   "display_name": "Python 3",
   "language": "python",
   "name": "python3"
  },
  "language_info": {
   "codemirror_mode": {
    "name": "ipython",
    "version": 3
   },
   "file_extension": ".py",
   "mimetype": "text/x-python",
   "name": "python",
   "nbconvert_exporter": "python",
   "pygments_lexer": "ipython3",
   "version": "3.6.8"
  }
 },
 "nbformat": 4,
 "nbformat_minor": 2
}
